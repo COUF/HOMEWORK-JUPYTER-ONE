{
 "cells": [
  {
   "cell_type": "code",
   "execution_count": 3,
   "metadata": {},
   "outputs": [
    {
     "name": "stdout",
     "output_type": "stream",
     "text": [
      "1\n",
      "run at 1\n",
      "run at 2\n",
      "run at 3\n",
      "run at 4\n",
      "run at 5\n",
      "finsh\n"
     ]
    }
   ],
   "source": [
    "i=int(input())\n",
    "if 0<i<5:\n",
    "    while i<=5:\n",
    "        print(\"run at %d\"%i)\n",
    "        i+=1\n",
    "    print(\"finsh\")    "
   ]
  },
  {
   "cell_type": "code",
   "execution_count": 5,
   "metadata": {},
   "outputs": [
    {
     "name": "stdout",
     "output_type": "stream",
     "text": [
      "(15, 5)\n"
     ]
    }
   ],
   "source": [
    "def first(a,b):\n",
    "    c=a+b\n",
    "    d=a-b\n",
    "    result=(c,d)\n",
    "    return result\n",
    "\n",
    "f=first(10,5)\n",
    "print(f)"
   ]
  },
  {
   "cell_type": "code",
   "execution_count": null,
   "metadata": {},
   "outputs": [],
   "source": []
  }
 ],
 "metadata": {
  "kernelspec": {
   "display_name": "Python 3",
   "language": "python",
   "name": "python3"
  },
  "language_info": {
   "codemirror_mode": {
    "name": "ipython",
    "version": 3
   },
   "file_extension": ".py",
   "mimetype": "text/x-python",
   "name": "python",
   "nbconvert_exporter": "python",
   "pygments_lexer": "ipython3",
   "version": "3.7.3"
  }
 },
 "nbformat": 4,
 "nbformat_minor": 2
}
